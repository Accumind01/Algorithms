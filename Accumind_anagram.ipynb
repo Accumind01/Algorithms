{
  "nbformat": 4,
  "nbformat_minor": 0,
  "metadata": {
    "colab": {
      "provenance": [],
      "toc_visible": true,
      "authorship_tag": "ABX9TyPGqDqwTKJvD934q3yCcTnu",
      "include_colab_link": true
    },
    "kernelspec": {
      "name": "python3",
      "display_name": "Python 3"
    },
    "language_info": {
      "name": "python"
    }
  },
  "cells": [
    {
      "cell_type": "markdown",
      "metadata": {
        "id": "view-in-github",
        "colab_type": "text"
      },
      "source": [
        "<a href=\"https://colab.research.google.com/github/Accumind01/Algorithms/blob/main/Accumind_anagram.ipynb\" target=\"_parent\"><img src=\"https://colab.research.google.com/assets/colab-badge.svg\" alt=\"Open In Colab\"/></a>"
      ]
    },
    {
      "cell_type": "markdown",
      "source": [
        "# Anagrams\n",
        "This exercise is about building the logic to detect if two words are anagrams\n",
        "e.g. SKID and KIDS are."
      ],
      "metadata": {
        "id": "TbgbpChpy6iZ"
      }
    },
    {
      "cell_type": "markdown",
      "source": [
        "# Prototyping\n",
        "Some debug information"
      ],
      "metadata": {
        "id": "Tg5Wv9tQ5r0g"
      }
    },
    {
      "cell_type": "code",
      "execution_count": null,
      "metadata": {
        "colab": {
          "base_uri": "https://localhost:8080/"
        },
        "id": "nRgEcUzLjI-p",
        "outputId": "65e3fa34-cd42-4f7c-966d-eaf74ba085e4"
      },
      "outputs": [
        {
          "output_type": "stream",
          "name": "stdout",
          "text": [
            "Before:['p', 'o', 's', 't', 't']\n",
            "t  is at  3\n",
            "After:['t', 'o', 's', 'p', 't']\n",
            "Before:['t', 'o', 's', 'p', 't']\n",
            "o  is at  1\n",
            "After:['t', 'o', 's', 'p', 't']\n",
            "Before:['t', 'o', 's', 'p', 't']\n",
            "p  is at  3\n",
            "After:['t', 'o', 'p', 's', 't']\n",
            "Before:['t', 'o', 'p', 's', 't']\n",
            "s  is at  3\n",
            "After:['t', 'o', 'p', 's', 't']\n",
            "Before:['t', 'o', 'p', 's', 't']\n",
            "s  is at  3\n",
            "After:['t', 'o', 'p', 't', 's']\n"
          ]
        }
      ],
      "source": [
        "word1 = \"S2KID1\"\n",
        "word2 = \"KIDS21\"\n",
        "\n",
        "list_word1= [c for c in word1]\n",
        "list_word2 = [c for c in word2]\n",
        "orig_list_word2 = list_word2\n",
        "\n",
        "for i,c in enumerate(word1):  \n",
        "  try:\n",
        "    print(\"Before:\" + str(list_word2))\n",
        "    matched_index = list_word2.index(c)\n",
        "    list_word2[matched_index]=list_word2[i]\n",
        "    list_word2[i]=c\n",
        "    print(c, \" is at \", matched_index)\n",
        "    print(\"After:\" + str(list_word2))\n",
        "  except Exception as ex:\n",
        "    print ('Not anagram')\n",
        "\n",
        "if (list_word1==list_word2):\n",
        "  print ('Anagram')"
      ]
    },
    {
      "cell_type": "markdown",
      "source": [
        "# Basic Anagram Detector\n",
        "First attempt"
      ],
      "metadata": {
        "id": "4pVcnyWx6I8A"
      }
    },
    {
      "cell_type": "code",
      "source": [
        "def is_anagram(word1, word2):\n",
        "  list_word1= [c for c in word1]  \n",
        "  list_word2 = [c for c in word2]\n",
        "  for i,c in enumerate(word1):  \n",
        "    try:     \n",
        "      matched_index = list_word2.index(c)\n",
        "      list_word2[matched_index]=list_word2[i]\n",
        "      list_word2[i]=c     \n",
        "    except Exception as ex:\n",
        "      return False\n",
        "  \n",
        "  if (list_word1==list_word2):\n",
        "    return True\n",
        "\n",
        "#%timeit is_anagram('cameralistic', 'cameralistic')\n",
        "%timeit is_anagram('thysanopteran', 'thysanopteran')\n",
        "#is_anagram('kids', 'sdlk')\n",
        "#is_anagram('pott', 'top')\n",
        "#is_anagram('top', 'post')\n"
      ],
      "metadata": {
        "colab": {
          "base_uri": "https://localhost:8080/"
        },
        "id": "Bx2_ERuhzSpc",
        "outputId": "8aa68390-4e8b-464a-b65a-a808b6f6cba1"
      },
      "execution_count": null,
      "outputs": [
        {
          "output_type": "stream",
          "name": "stdout",
          "text": [
            "5.32 µs ± 107 ns per loop (mean ± std. dev. of 7 runs, 100000 loops each)\n"
          ]
        }
      ]
    },
    {
      "cell_type": "markdown",
      "source": [
        "# Better Anagram Detector\n",
        "Prototyping"
      ],
      "metadata": {
        "id": "aV1Ttgdt6SCD"
      }
    },
    {
      "cell_type": "code",
      "source": [
        "word1 = \"SSKID1\"\n",
        "word2 = \"KIDS21\"\n",
        "\n",
        "list_word2 = list(word2)\n",
        "\n",
        "for c in word1:  \n",
        "  try:\n",
        "    if(c not in list_word2):\n",
        "      print ('Not anagram')\n",
        "    \n",
        "    list_word2.remove(c)\n",
        "  except Exception as ex:\n",
        "    print ('Error' + ex)    \n",
        "\n",
        "if (len(list_word2)==0):\n",
        "  print ('Anagram')"
      ],
      "metadata": {
        "id": "mbAAruHC6dmz"
      },
      "execution_count": null,
      "outputs": []
    },
    {
      "cell_type": "markdown",
      "source": [
        "**Algo**"
      ],
      "metadata": {
        "id": "m32DxwJd8RwF"
      }
    },
    {
      "cell_type": "code",
      "source": [
        "def is_anagram(word1, word2):\n",
        "  list_word2 = list(word2)\n",
        "\n",
        "  for c in word1:  \n",
        "    try:\n",
        "      if(c not in list_word2):\n",
        "        return False\n",
        "      \n",
        "      list_word2.remove(c)\n",
        "    except Exception as ex:\n",
        "      print ('Error' + ex)    \n",
        "\n",
        "  if (len(list_word2)==0):\n",
        "    return True\n",
        "\n",
        "#%timeit is_anagram('cameralistic', 'cameralistic')\n",
        "#%timeit is_anagram('thysanopteran', 'thysanopteran')\n",
        "#is_anagram('kids', 'sdlk')\n",
        "#is_anagram('pott', 'top')\n",
        "#is_anagram('top', 'post')"
      ],
      "metadata": {
        "id": "QziJ8MN18Xo0"
      },
      "execution_count": 11,
      "outputs": []
    },
    {
      "cell_type": "markdown",
      "source": [
        "# Get Anagram Pairs\n",
        "A function that print matching anagram pairs in a basic pairing arrangement\n",
        "\n",
        "\n"
      ],
      "metadata": {
        "id": "EjYf9TA8IJIg"
      }
    },
    {
      "cell_type": "code",
      "source": [
        "word_list = ['disk','dusk' ,'skin','swindle', 'kids', 'skid','dinks','kins','sink','kiln','nope','hope','open','lope']\n",
        "\n",
        "for i,word in enumerate(word_list):\n",
        "  for j,anotherword in enumerate(word_list):\n",
        "    if(i!=j and is_anagram(word,anotherword)):\n",
        "      print(word + \", \" + anotherword)\n"
      ],
      "metadata": {
        "colab": {
          "base_uri": "https://localhost:8080/"
        },
        "id": "EdgCr84ZIlCO",
        "outputId": "a24d9551-72db-42ce-ba36-249cc4aa59b8"
      },
      "execution_count": null,
      "outputs": [
        {
          "output_type": "stream",
          "name": "stdout",
          "text": [
            "disk, kids\n",
            "disk, skid\n",
            "skin, kins\n",
            "skin, sink\n",
            "kids, disk\n",
            "kids, skid\n",
            "skid, disk\n",
            "skid, kids\n",
            "kins, skin\n",
            "kins, sink\n",
            "sink, skin\n",
            "sink, kins\n",
            "nope, open\n",
            "open, nope\n"
          ]
        }
      ]
    },
    {
      "cell_type": "markdown",
      "source": [
        "A function that prints only unique pairs"
      ],
      "metadata": {
        "id": "aEg2Q5aunHeQ"
      }
    },
    {
      "cell_type": "code",
      "source": [
        "def get_anagram_pairs(word_list):\n",
        "  anagram_pairs = []\n",
        "  for i,word in enumerate(word_list):\n",
        "    for j,anotherword in enumerate(word_list):\n",
        "      if(i!=j and is_anagram(word,anotherword)):   \n",
        "        pair = (word,anotherword)  if word <= anotherword else (anotherword,word)\n",
        "        if(pair not in anagram_pairs):\n",
        "          anagram_pairs.append(pair)\n",
        "          #print(pair)\n",
        "  return anagram_pairs\n",
        "\n",
        "#word_list = ['disk','dusk' ,'skin','swindle', 'kids', 'skid','dinks','kins','sink','kiln','nope','hope','open','lope']\n",
        "#pairs = get_anagram_pairs(word_list)\n",
        "#print (pairs)\n"
      ],
      "metadata": {
        "id": "i2JGBQD8m-sv"
      },
      "execution_count": null,
      "outputs": []
    },
    {
      "cell_type": "markdown",
      "source": [
        "# Download anagrams\n",
        "This code downloads a list of anagrams from a URL and stores them in a massive list."
      ],
      "metadata": {
        "id": "lFJRKJWKuRDX"
      }
    },
    {
      "cell_type": "code",
      "source": [
        "import requests\n",
        "\n",
        "def download_words(url):\n",
        "    response = requests.get(url)\n",
        "    words = response.text.splitlines()\n",
        "    return words\n",
        "\n",
        "url = \"https://raw.githubusercontent.com/AllenDowney/DSIRP/main/american-english\"\n",
        "big_words_list = download_words(url)\n",
        "short_words_list = big_words_list[:5000]\n",
        "#print(word_list[:5000])\n"
      ],
      "metadata": {
        "id": "D76ylcopugcD"
      },
      "execution_count": 4,
      "outputs": []
    },
    {
      "cell_type": "markdown",
      "source": [
        "# Check Anagrams in WordList\n"
      ],
      "metadata": {
        "id": "abP29RwdwMRQ"
      }
    },
    {
      "cell_type": "code",
      "source": [
        "pairs = get_anagram_pairs(short_words_list)\n",
        "for pair in pairs:\n",
        "  print (pair)"
      ],
      "metadata": {
        "colab": {
          "base_uri": "https://localhost:8080/"
        },
        "id": "gdukpOxpwUVK",
        "outputId": "19b2d095-64bf-4064-93f4-a5c4a977f742"
      },
      "execution_count": null,
      "outputs": [
        {
          "output_type": "stream",
          "name": "stdout",
          "text": [
            "('Abner', 'Arneb')\n",
            "(\"Abner's\", \"Arneb's\")\n",
            "('Aires', 'Aries')\n",
            "(\"Aires's\", \"Aries's\")\n",
            "('Alar', 'Aral')\n",
            "(\"Alar's\", \"Aral's\")\n",
            "('Alberio', 'Albireo')\n",
            "(\"Alberio's\", \"Albireo's\")\n",
            "('Andre', 'Arden')\n",
            "(\"Andre's\", \"Arden's\")\n",
            "('Annmarie', 'Armenian')\n",
            "(\"Annmarie's\", \"Armenian's\")\n",
            "('Arno', 'Aron')\n",
            "(\"Arno's\", \"Aron's\")\n",
            "('Atari', 'Atria')\n",
            "(\"Atari's\", \"Atria's\")\n",
            "('Banneker', 'Bernanke')\n",
            "(\"Banneker's\", \"Bernanke's\")\n",
            "('Belgian', 'Bengali')\n",
            "(\"Belgian's\", \"Bengali's\")\n",
            "('Bellow', 'Bowell')\n",
            "(\"Bellow's\", \"Bowell's\")\n",
            "('Bert', 'Bret')\n",
            "(\"Bert's\", \"Bret's\")\n",
            "('Biogen', 'Boeing')\n",
            "(\"Biogen's\", \"Boeing's\")\n",
            "('Booker', 'Brooke')\n",
            "(\"Booker's\", \"Brooke's\")\n",
            "('Born', 'Brno')\n",
            "(\"Born's\", \"Brno's\")\n",
            "('Brain', 'Brian')\n",
            "(\"Brain's\", \"Brian's\")\n",
            "('Branden', 'Brendan')\n",
            "(\"Branden's\", \"Brendan's\")\n",
            "('Breton', 'Bronte')\n",
            "(\"Breton's\", \"Bronte's\")\n",
            "('Brut', 'Burt')\n",
            "(\"Brut's\", \"Burt's\")\n",
            "('Bryon', 'Byron')\n",
            "(\"Bryon's\", \"Byron's\")\n",
            "('Callisto', 'Castillo')\n",
            "(\"Callisto's\", \"Castillo's\")\n",
            "('Canon', 'Conan')\n",
            "(\"Canon's\", \"Conan's\")\n",
            "('Cantor', 'Carnot')\n",
            "(\"Cantor's\", \"Carnot's\")\n",
            "('Carla', 'Clara')\n",
            "(\"Carla's\", \"Clara's\")\n",
            "('Carlo', 'Carol')\n",
            "(\"Carlo's\", \"Carol's\")\n",
            "('Carmine', 'Crimean')\n",
            "(\"Carmine's\", \"Crimean's\")\n",
            "('Caroline', 'Cornelia')\n",
            "(\"Caroline's\", \"Cornelia's\")\n",
            "('Carter', 'Crater')\n",
            "(\"Carter's\", \"Crater's\")\n",
            "('Cary', 'Cray')\n",
            "(\"Cary's\", \"Cray's\")\n",
            "('Castor', 'Castro')\n",
            "('Castor', 'Croats')\n",
            "(\"Castor's\", \"Castro's\")\n",
            "('Castro', 'Croats')\n",
            "('Ceylon', 'Conley')\n",
            "(\"Ceylon's\", \"Conley's\")\n",
            "('Chaitin', 'Chianti')\n",
            "(\"Chaitin's\", \"Chianti's\")\n",
            "('Christian', 'Christina')\n",
            "(\"Christian's\", \"Christina's\")\n",
            "('Clemons', 'Clemson')\n",
            "(\"Clemons's\", \"Clemson's\")\n",
            "('Cleo', 'Cole')\n",
            "(\"Cleo's\", \"Cole's\")\n",
            "('Dali', 'Dial')\n",
            "(\"Dali's\", \"Dial's\")\n",
            "('Dalian', 'Danial')\n",
            "(\"Dalian's\", \"Danial's\")\n",
            "('Dane', 'Dean')\n",
            "('Dane', 'Dena')\n",
            "(\"Dane's\", \"Dean's\")\n",
            "(\"Dane's\", \"Dena's\")\n",
            "('Dannie', 'Dianne')\n",
            "(\"Dannie's\", \"Dianne's\")\n",
            "('Dean', 'Dena')\n",
            "(\"Dean's\", \"Dena's\")\n",
            "('Dino', 'Dion')\n",
            "(\"Dino's\", \"Dion's\")\n"
          ]
        }
      ]
    },
    {
      "cell_type": "markdown",
      "source": [],
      "metadata": {
        "id": "n0HSl6xCHgrL"
      }
    },
    {
      "cell_type": "markdown",
      "source": [
        "# Find anagrams of a word\n",
        "This code searches for anagrams of a particular word"
      ],
      "metadata": {
        "id": "mUCf3DkKHZZ7"
      }
    },
    {
      "cell_type": "code",
      "source": [
        "word_to_search = 'dean'\n",
        "for word in big_words_list:\n",
        "  if(is_anagram(word_to_search,word)):\n",
        "    print(word)"
      ],
      "metadata": {
        "colab": {
          "base_uri": "https://localhost:8080/"
        },
        "id": "YiNP4YTwHmzI",
        "outputId": "d990dbf8-4066-4efc-e589-699b2e151c53"
      },
      "execution_count": 17,
      "outputs": [
        {
          "output_type": "stream",
          "name": "stdout",
          "text": [
            "dean\n"
          ]
        }
      ]
    },
    {
      "cell_type": "markdown",
      "source": [
        "# Longest Anagram\n"
      ],
      "metadata": {
        "id": "KgvBq_eDkIPn"
      }
    },
    {
      "cell_type": "code",
      "source": [
        "words_sorted_by_length = sorted(big_words_list, key=len, reverse=True)\n",
        "words_sorted_by_length = words_sorted_by_length[:2000]\n",
        "try:\n",
        "  for i,word in enumerate(words_sorted_by_length):\n",
        "    for anotherword in words_sorted_by_length[i+1:]:\n",
        "      if(is_anagram(word,anotherword)):  \n",
        "        print(word,anotherword)\n",
        "        raise StopIteration\n",
        "        \n",
        "except StopIteration:\n",
        "    pass"
      ],
      "metadata": {
        "colab": {
          "base_uri": "https://localhost:8080/"
        },
        "id": "JOVv-pqskN2w",
        "outputId": "9e081af9-934f-4682-d21b-dbdc23c6f4fe"
      },
      "execution_count": 20,
      "outputs": [
        {
          "output_type": "stream",
          "name": "stdout",
          "text": [
            "impressiveness's permissiveness's\n"
          ]
        }
      ]
    }
  ]
}