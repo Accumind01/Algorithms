{
  "nbformat": 4,
  "nbformat_minor": 0,
  "metadata": {
    "colab": {
      "provenance": [],
      "toc_visible": true,
      "authorship_tag": "ABX9TyNRVfEC7q1quobdzJLSmxqK",
      "include_colab_link": true
    },
    "kernelspec": {
      "name": "python3",
      "display_name": "Python 3"
    },
    "language_info": {
      "name": "python"
    }
  },
  "cells": [
    {
      "cell_type": "markdown",
      "metadata": {
        "id": "view-in-github",
        "colab_type": "text"
      },
      "source": [
        "<a href=\"https://colab.research.google.com/github/Accumind01/Algorithms/blob/main/Accumind_anagram.ipynb\" target=\"_parent\"><img src=\"https://colab.research.google.com/assets/colab-badge.svg\" alt=\"Open In Colab\"/></a>"
      ]
    },
    {
      "cell_type": "markdown",
      "source": [
        "# Anagrams\n",
        "This exercise is about building the logic to detect if two words are anagrams\n",
        "e.g. SKID and KIDS are."
      ],
      "metadata": {
        "id": "TbgbpChpy6iZ"
      }
    },
    {
      "cell_type": "markdown",
      "source": [
        "# Prototyping\n",
        "Some debug information"
      ],
      "metadata": {
        "id": "Tg5Wv9tQ5r0g"
      }
    },
    {
      "cell_type": "code",
      "execution_count": null,
      "metadata": {
        "id": "nRgEcUzLjI-p"
      },
      "outputs": [],
      "source": [
        "word1 = \"S2KID1\"\n",
        "word2 = \"KIDS21\"\n",
        "\n",
        "list_word1= [c for c in word1]\n",
        "list_word2 = [c for c in word2]\n",
        "orig_list_word2 = list_word2\n",
        "\n",
        "for i,c in enumerate(word1):  \n",
        "  try:\n",
        "    print(\"Before:\" + str(list_word2))\n",
        "    matched_index = list_word2.index(c)\n",
        "    list_word2[matched_index]=list_word2[i]\n",
        "    list_word2[i]=c\n",
        "    print(c, \" is at \", matched_index)\n",
        "    print(\"After:\" + str(list_word2))\n",
        "  except Exception as ex:\n",
        "    print ('Not anagram')\n",
        "\n",
        "if (list_word1==list_word2):\n",
        "  print ('Anagram')"
      ]
    },
    {
      "cell_type": "markdown",
      "source": [
        "# Basic Anagram Detector\n",
        "First attempt"
      ],
      "metadata": {
        "id": "4pVcnyWx6I8A"
      }
    },
    {
      "cell_type": "code",
      "source": [
        "def is_anagram(word1, word2):\n",
        "  list_word1= [c for c in word1]  \n",
        "  list_word2 = [c for c in word2]\n",
        "  for i,c in enumerate(word1):  \n",
        "    try:     \n",
        "      matched_index = list_word2.index(c)\n",
        "      list_word2[matched_index]=list_word2[i]\n",
        "      list_word2[i]=c     \n",
        "    except Exception as ex:\n",
        "      return False\n",
        "  \n",
        "  if (list_word1==list_word2):\n",
        "    return True\n",
        "\n",
        "#%timeit is_anagram('cameralistic', 'cameralistic')\n",
        "%timeit is_anagram('thysanopteran', 'thysanopteran')\n",
        "#is_anagram('kids', 'sdlk')\n",
        "#is_anagram('pott', 'top')\n",
        "#is_anagram('top', 'post')\n"
      ],
      "metadata": {
        "id": "Bx2_ERuhzSpc"
      },
      "execution_count": null,
      "outputs": []
    },
    {
      "cell_type": "markdown",
      "source": [
        "# Better Anagram Detector\n",
        "Prototyping"
      ],
      "metadata": {
        "id": "aV1Ttgdt6SCD"
      }
    },
    {
      "cell_type": "code",
      "source": [
        "word1 = \"SSKID1\"\n",
        "word2 = \"KIDS21\"\n",
        "\n",
        "list_word2 = list(word2)\n",
        "\n",
        "for c in word1:  \n",
        "  try:\n",
        "    if(c not in list_word2):\n",
        "      print ('Not anagram')\n",
        "    \n",
        "    list_word2.remove(c)\n",
        "  except Exception as ex:\n",
        "    print ('Error' + ex)    \n",
        "\n",
        "if (len(list_word2)==0):\n",
        "  print ('Anagram')"
      ],
      "metadata": {
        "id": "mbAAruHC6dmz"
      },
      "execution_count": null,
      "outputs": []
    },
    {
      "cell_type": "markdown",
      "source": [
        "**Algo**"
      ],
      "metadata": {
        "id": "m32DxwJd8RwF"
      }
    },
    {
      "cell_type": "code",
      "source": [
        "def is_anagram(word1, word2): \n",
        "  list_word2 = list(word2)\n",
        "\n",
        "  for c in word1:  \n",
        "    try:\n",
        "      if(c not in list_word2):\n",
        "        return False\n",
        "      \n",
        "      list_word2.remove(c)\n",
        "    except Exception as ex:\n",
        "      print ('Error' + ex)    \n",
        "\n",
        "  if (len(list_word2)==0):\n",
        "    return True\n",
        "\n",
        "#%timeit is_anagram('cameralistic', 'cameralistic')\n",
        "#is_anagram('thysanopteran', 'thysanopteran')\n",
        "#is_anagram('kids', 'sdlk')\n",
        "#is_anagram('pott', 'top')\n",
        "#is_anagram('top', 'post')"
      ],
      "metadata": {
        "id": "QziJ8MN18Xo0"
      },
      "execution_count": 69,
      "outputs": []
    },
    {
      "cell_type": "markdown",
      "source": [
        "# Fast Anagram\n",
        "A faster function to detect if two strings are anagrams"
      ],
      "metadata": {
        "id": "S-DBL628tGTK"
      }
    },
    {
      "cell_type": "code",
      "source": [
        "def fast_anagrams (word1, word2):\n",
        "  if (len(word1)!=len(word2)):\n",
        "    return False\n",
        "  return sorted(word1) == sorted(word2) \n",
        "\n",
        "#%timeit fast_anagrams('cameralistic', 'cameralistic')\n",
        "#is_anagram('thysanopteran', 'thysanopteran')\n",
        "#is_anagram('kids', 'sdlk')\n",
        "#is_anagram('pott', 'top')\n",
        "#is_anagram('top', 'post')"
      ],
      "metadata": {
        "id": "j9GlmjpQtQvK"
      },
      "execution_count": 65,
      "outputs": []
    },
    {
      "cell_type": "markdown",
      "source": [
        "# Get Anagram Pairs\n",
        "A function that print matching anagram pairs in a basic pairing arrangement\n",
        "\n",
        "\n"
      ],
      "metadata": {
        "id": "EjYf9TA8IJIg"
      }
    },
    {
      "cell_type": "code",
      "source": [
        "word_list = ['disk','dusk' ,'skin','swindle', 'kids', 'skid','dinks','kins','sink','kiln','nope','hope','open','lope']\n",
        "\n",
        "for i,word in enumerate(word_list):\n",
        "  for j,anotherword in enumerate(word_list):\n",
        "    if(i!=j and is_anagram(word,anotherword)):\n",
        "      print(word + \", \" + anotherword)\n"
      ],
      "metadata": {
        "id": "EdgCr84ZIlCO"
      },
      "execution_count": null,
      "outputs": []
    },
    {
      "cell_type": "markdown",
      "source": [
        "A function that prints only unique pairs"
      ],
      "metadata": {
        "id": "aEg2Q5aunHeQ"
      }
    },
    {
      "cell_type": "code",
      "source": [
        "def get_anagram_pairs(word_list):\n",
        "  anagram_pairs = []\n",
        "  for i,word in enumerate(word_list):\n",
        "    for j,anotherword in enumerate(word_list):\n",
        "      if(i!=j and is_anagram(word,anotherword)):   \n",
        "        pair = (word,anotherword)  if word <= anotherword else (anotherword,word)\n",
        "        if(pair not in anagram_pairs):\n",
        "          anagram_pairs.append(pair)\n",
        "          #print(pair)\n",
        "  return anagram_pairs\n",
        "\n",
        "#word_list = ['disk','dusk' ,'skin','swindle', 'kids', 'skid','dinks','kins','sink','kiln','nope','hope','open','lope']\n",
        "#pairs = get_anagram_pairs(word_list)\n",
        "#print (pairs)\n"
      ],
      "metadata": {
        "id": "i2JGBQD8m-sv"
      },
      "execution_count": null,
      "outputs": []
    },
    {
      "cell_type": "markdown",
      "source": [
        "# Download anagrams\n",
        "This code downloads a list of anagrams from a URL and stores them in a massive list."
      ],
      "metadata": {
        "id": "lFJRKJWKuRDX"
      }
    },
    {
      "cell_type": "code",
      "source": [
        "import requests\n",
        "\n",
        "def download_words(url):\n",
        "    response = requests.get(url)\n",
        "    words = response.text.splitlines()\n",
        "    return words\n",
        "\n",
        "url = \"https://raw.githubusercontent.com/AllenDowney/DSIRP/main/american-english\"\n",
        "big_words_list = download_words(url)\n",
        "short_words_list = big_words_list[:5000]\n",
        "#print(word_list[:5000])\n"
      ],
      "metadata": {
        "id": "D76ylcopugcD"
      },
      "execution_count": 50,
      "outputs": []
    },
    {
      "cell_type": "markdown",
      "source": [
        "# Check Anagrams in WordList\n"
      ],
      "metadata": {
        "id": "abP29RwdwMRQ"
      }
    },
    {
      "cell_type": "code",
      "source": [
        "pairs = get_anagram_pairs(short_words_list)\n",
        "for pair in pairs:\n",
        "  print (pair)"
      ],
      "metadata": {
        "id": "gdukpOxpwUVK"
      },
      "execution_count": null,
      "outputs": []
    },
    {
      "cell_type": "markdown",
      "source": [
        "# Find anagrams of a word\n",
        "This code searches for anagrams of a particular word"
      ],
      "metadata": {
        "id": "mUCf3DkKHZZ7"
      }
    },
    {
      "cell_type": "code",
      "source": [
        "word_to_search = 'dean'\n",
        "for word in big_words_list:\n",
        "  if(is_anagram(word_to_search,word)):\n",
        "    print(word)"
      ],
      "metadata": {
        "id": "YiNP4YTwHmzI"
      },
      "execution_count": null,
      "outputs": []
    },
    {
      "cell_type": "markdown",
      "source": [
        "# Longest Anagram\n"
      ],
      "metadata": {
        "id": "KgvBq_eDkIPn"
      }
    },
    {
      "cell_type": "code",
      "source": [
        "words_sorted_by_length = sorted(big_words_list, key=len, reverse=True)\n",
        "words_sorted_by_length = words_sorted_by_length[:2000]\n",
        "try:\n",
        "  for i,word in enumerate(words_sorted_by_length):\n",
        "    for anotherword in words_sorted_by_length[i+1:]:\n",
        "      if(is_anagram(word,anotherword)):  \n",
        "        print(word,anotherword)\n",
        "        raise StopIteration\n",
        "        \n",
        "except StopIteration:\n",
        "    pass"
      ],
      "metadata": {
        "id": "JOVv-pqskN2w"
      },
      "execution_count": null,
      "outputs": []
    },
    {
      "cell_type": "markdown",
      "source": [
        "# Largest Anagram Set\n"
      ],
      "metadata": {
        "id": "jCc4xwExJ66V"
      }
    },
    {
      "cell_type": "markdown",
      "source": [
        "Basic algorithm"
      ],
      "metadata": {
        "id": "XfvGahafLtyu"
      }
    },
    {
      "cell_type": "code",
      "source": [
        "dict_anagrams = {}\n",
        "short_words_list = [word.lower() for word in big_words_list[:20000]]\n",
        "#print(len(big_words_list))\n",
        "for i,word in enumerate(short_words_list):\n",
        "  for j,another_word in enumerate(short_words_list):\n",
        "    if(i!=j and is_anagram(word,another_word)):     \n",
        "      #print(word,another_word)\n",
        "      word_key = word if word < another_word else another_word\n",
        "      #print(word_key)\n",
        "      dict_anagrams[word_key] = dict_anagrams.setdefault(word_key,0)+1\n",
        "\n",
        "#print (dict_anagrams)    \n",
        "print (max(dict_anagrams.items(), key = lambda x: x[1]))"
      ],
      "metadata": {
        "colab": {
          "base_uri": "https://localhost:8080/"
        },
        "outputId": "aa462724-9a87-40b6-d169-1c2f7faac24b",
        "id": "WRrj3KMrJ660"
      },
      "execution_count": 70,
      "outputs": [
        {
          "output_type": "stream",
          "name": "stdout",
          "text": [
            "('aden', 8)\n"
          ]
        }
      ]
    },
    {
      "cell_type": "markdown",
      "source": [
        "#Using Hashtabes\n"
      ],
      "metadata": {
        "id": "zmgakDRZ0MIw"
      }
    },
    {
      "cell_type": "code",
      "source": [
        "dict_anagrams = {}\n",
        "short_words_list = [word.lower() for word in big_words_list]\n",
        "\n",
        "word_hash = {}\n",
        "for word in short_words_list:\n",
        "    sorted_word = ''.join(sorted(word))\n",
        "    if sorted_word in word_hash:\n",
        "        word_hash[sorted_word].append(word)\n",
        "    else:\n",
        "        word_hash[sorted_word] = [word]\n",
        "\n",
        "for sorted_word, words in word_hash.items():\n",
        "    if len(words) > 1:\n",
        "        word_key = min(words)\n",
        "        dict_anagrams[word_key] = len(words)\n",
        "\n",
        "print(max(dict_anagrams.items(), key = lambda x: x[1]))"
      ],
      "metadata": {
        "colab": {
          "base_uri": "https://localhost:8080/"
        },
        "id": "1Bfv2qiA0WZP",
        "outputId": "b16e070b-3719-4faf-f1b0-385334cd2c4a"
      },
      "execution_count": 73,
      "outputs": [
        {
          "output_type": "stream",
          "name": "stdout",
          "text": [
            "('least', 8)\n"
          ]
        }
      ]
    }
  ]
}