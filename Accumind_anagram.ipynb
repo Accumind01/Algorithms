{
  "nbformat": 4,
  "nbformat_minor": 0,
  "metadata": {
    "colab": {
      "provenance": [],
      "toc_visible": true,
      "authorship_tag": "ABX9TyOUt4FcImCiyhmWiq8z5oNm",
      "include_colab_link": true
    },
    "kernelspec": {
      "name": "python3",
      "display_name": "Python 3"
    },
    "language_info": {
      "name": "python"
    }
  },
  "cells": [
    {
      "cell_type": "markdown",
      "metadata": {
        "id": "view-in-github",
        "colab_type": "text"
      },
      "source": [
        "<a href=\"https://colab.research.google.com/github/Accumind01/Algorithms/blob/main/Accumind_anagram.ipynb\" target=\"_parent\"><img src=\"https://colab.research.google.com/assets/colab-badge.svg\" alt=\"Open In Colab\"/></a>"
      ]
    },
    {
      "cell_type": "markdown",
      "source": [
        "# Anagrams\n",
        "This exercise is about building the logic to detect if two words are anagrams\n",
        "e.g. SKID and KIDS are."
      ],
      "metadata": {
        "id": "TbgbpChpy6iZ"
      }
    },
    {
      "cell_type": "markdown",
      "source": [
        "# Prototyping\n",
        "Some debug information"
      ],
      "metadata": {
        "id": "Tg5Wv9tQ5r0g"
      }
    },
    {
      "cell_type": "code",
      "execution_count": null,
      "metadata": {
        "colab": {
          "base_uri": "https://localhost:8080/"
        },
        "id": "nRgEcUzLjI-p",
        "outputId": "65e3fa34-cd42-4f7c-966d-eaf74ba085e4"
      },
      "outputs": [
        {
          "output_type": "stream",
          "name": "stdout",
          "text": [
            "Before:['p', 'o', 's', 't', 't']\n",
            "t  is at  3\n",
            "After:['t', 'o', 's', 'p', 't']\n",
            "Before:['t', 'o', 's', 'p', 't']\n",
            "o  is at  1\n",
            "After:['t', 'o', 's', 'p', 't']\n",
            "Before:['t', 'o', 's', 'p', 't']\n",
            "p  is at  3\n",
            "After:['t', 'o', 'p', 's', 't']\n",
            "Before:['t', 'o', 'p', 's', 't']\n",
            "s  is at  3\n",
            "After:['t', 'o', 'p', 's', 't']\n",
            "Before:['t', 'o', 'p', 's', 't']\n",
            "s  is at  3\n",
            "After:['t', 'o', 'p', 't', 's']\n"
          ]
        }
      ],
      "source": [
        "word1 = \"S2KID1\"\n",
        "word2 = \"KIDS21\"\n",
        "\n",
        "list_word1= [c for c in word1]\n",
        "list_word2 = [c for c in word2]\n",
        "orig_list_word2 = list_word2\n",
        "\n",
        "for i,c in enumerate(word1):  \n",
        "  try:\n",
        "    print(\"Before:\" + str(list_word2))\n",
        "    matched_index = list_word2.index(c)\n",
        "    list_word2[matched_index]=list_word2[i]\n",
        "    list_word2[i]=c\n",
        "    print(c, \" is at \", matched_index)\n",
        "    print(\"After:\" + str(list_word2))\n",
        "  except Exception as ex:\n",
        "    print ('Not anagram')\n",
        "\n",
        "if (list_word1==list_word2):\n",
        "  print ('Anagram')"
      ]
    },
    {
      "cell_type": "markdown",
      "source": [
        "# Basic Anagram Detector\n",
        "First attempt"
      ],
      "metadata": {
        "id": "4pVcnyWx6I8A"
      }
    },
    {
      "cell_type": "code",
      "source": [
        "def is_anagram(word1, word2):\n",
        "  list_word1= [c for c in word1]  \n",
        "  list_word2 = [c for c in word2]\n",
        "  for i,c in enumerate(word1):  \n",
        "    try:     \n",
        "      matched_index = list_word2.index(c)\n",
        "      list_word2[matched_index]=list_word2[i]\n",
        "      list_word2[i]=c     \n",
        "    except Exception as ex:\n",
        "      return False\n",
        "  \n",
        "  if (list_word1==list_word2):\n",
        "    return True\n",
        "\n",
        "#%timeit is_anagram('cameralistic', 'cameralistic')\n",
        "%timeit is_anagram('thysanopteran', 'thysanopteran')\n",
        "#is_anagram('kids', 'sdlk')\n",
        "#is_anagram('pott', 'top')\n",
        "#is_anagram('top', 'post')\n"
      ],
      "metadata": {
        "colab": {
          "base_uri": "https://localhost:8080/"
        },
        "id": "Bx2_ERuhzSpc",
        "outputId": "8aa68390-4e8b-464a-b65a-a808b6f6cba1"
      },
      "execution_count": null,
      "outputs": [
        {
          "output_type": "stream",
          "name": "stdout",
          "text": [
            "5.32 µs ± 107 ns per loop (mean ± std. dev. of 7 runs, 100000 loops each)\n"
          ]
        }
      ]
    },
    {
      "cell_type": "markdown",
      "source": [
        "# Better Anagram Detector\n",
        "Prototyping"
      ],
      "metadata": {
        "id": "aV1Ttgdt6SCD"
      }
    },
    {
      "cell_type": "code",
      "source": [
        "word1 = \"SSKID1\"\n",
        "word2 = \"KIDS21\"\n",
        "\n",
        "list_word2 = list(word2)\n",
        "\n",
        "for c in word1:  \n",
        "  try:\n",
        "    if(c not in list_word2):\n",
        "      print ('Not anagram')\n",
        "    \n",
        "    list_word2.remove(c)\n",
        "  except Exception as ex:\n",
        "    print ('Error' + ex)    \n",
        "\n",
        "if (len(list_word2)==0):\n",
        "  print ('Anagram')"
      ],
      "metadata": {
        "id": "mbAAruHC6dmz"
      },
      "execution_count": null,
      "outputs": []
    },
    {
      "cell_type": "markdown",
      "source": [
        "**Algo**"
      ],
      "metadata": {
        "id": "m32DxwJd8RwF"
      }
    },
    {
      "cell_type": "code",
      "source": [
        "def is_anagram(word1, word2):\n",
        "  list_word2 = list(word2)\n",
        "\n",
        "  for c in word1:  \n",
        "    try:\n",
        "      if(c not in list_word2):\n",
        "        return False\n",
        "      \n",
        "      list_word2.remove(c)\n",
        "    except Exception as ex:\n",
        "      print ('Error' + ex)    \n",
        "\n",
        "  if (len(list_word2)==0):\n",
        "    return True\n",
        "\n",
        "#%timeit is_anagram('cameralistic', 'cameralistic')\n",
        "%timeit is_anagram('thysanopteran', 'thysanopteran')\n",
        "#is_anagram('kids', 'sdlk')\n",
        "#is_anagram('pott', 'top')\n",
        "#is_anagram('top', 'post')"
      ],
      "metadata": {
        "colab": {
          "base_uri": "https://localhost:8080/"
        },
        "id": "QziJ8MN18Xo0",
        "outputId": "2538311b-03b0-4796-e8ee-97fb3ca6c2a0"
      },
      "execution_count": null,
      "outputs": [
        {
          "output_type": "stream",
          "name": "stdout",
          "text": [
            "2.35 µs ± 109 ns per loop (mean ± std. dev. of 7 runs, 100000 loops each)\n"
          ]
        }
      ]
    },
    {
      "cell_type": "markdown",
      "source": [
        "# Get Anagram Pairs\n",
        "A function that print matching anagram pairs\n",
        "\n",
        "\n"
      ],
      "metadata": {
        "id": "EjYf9TA8IJIg"
      }
    },
    {
      "cell_type": "code",
      "source": [
        "word_list = ['disk','dusk' ,'skin','swindle', 'kids', 'skid','dinks','kins','sink','kiln','nope','hope','open','lope']\n",
        "\n"
      ],
      "metadata": {
        "id": "EdgCr84ZIlCO"
      },
      "execution_count": null,
      "outputs": []
    }
  ]
}