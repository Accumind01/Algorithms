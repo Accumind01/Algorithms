{
  "nbformat": 4,
  "nbformat_minor": 0,
  "metadata": {
    "colab": {
      "provenance": [],
      "toc_visible": true,
      "authorship_tag": "ABX9TyPdRWg8nvXd4PUwHxhkT7fz",
      "include_colab_link": true
    },
    "kernelspec": {
      "name": "python3",
      "display_name": "Python 3"
    },
    "language_info": {
      "name": "python"
    }
  },
  "cells": [
    {
      "cell_type": "markdown",
      "metadata": {
        "id": "view-in-github",
        "colab_type": "text"
      },
      "source": [
        "<a href=\"https://colab.research.google.com/github/Accumind01/Algorithms/blob/main/Dictionary.ipynb\" target=\"_parent\"><img src=\"https://colab.research.google.com/assets/colab-badge.svg\" alt=\"Open In Colab\"/></a>"
      ]
    },
    {
      "cell_type": "markdown",
      "source": [
        "# Dictionary Comprehension\n",
        "Random customers discount dictionary"
      ],
      "metadata": {
        "id": "viK6NZpK093U"
      }
    },
    {
      "cell_type": "code",
      "execution_count": 4,
      "metadata": {
        "colab": {
          "base_uri": "https://localhost:8080/"
        },
        "id": "LYlz3--czm61",
        "outputId": "25254172-540d-4eb3-e536-f466b0dbebfb"
      },
      "outputs": [
        {
          "output_type": "stream",
          "name": "stdout",
          "text": [
            "{'Aaron': 40, 'Brian': 40, 'Curly': 20, 'Don': 20, 'Eastwood': 45, 'Robert': 35, 'Sam': 40, 'Mike': 45, 'David': 40, 'Cindy': 25, 'Gemma': 25, 'Moyo': 25}\n"
          ]
        }
      ],
      "source": [
        "import random\n",
        "\n",
        "customers = ['Aaron','Brian','Curly','Don','Eastwood','Robert','Sam','Mike','David','Cindy','Gemma','Moyo']\n",
        "\n",
        "discounts ={customer:random.randrange(10,50,5) for customer in customers }\n",
        "\n",
        "print(discounts)"
      ]
    },
    {
      "cell_type": "markdown",
      "source": [
        "# Zip \n",
        "The zip function takes in a sequence of iterables as the argument, and returns an iterator of tuples, as shown in the image below.\n"
      ],
      "metadata": {
        "id": "4ZHZ9kz41XoH"
      }
    },
    {
      "cell_type": "code",
      "source": [
        "import random\n",
        "\n",
        "days = [\"Sunday\", \"Monday\",\"Tuesday\",\"Wednesday\",\"Thursday\",\"Friday\",\"Saturday\"]\n",
        "temp_C = [30.5,32.6,31.8,33.4,29.8,30.2,29.9]\n",
        "random.shuffle(temp_C)\n",
        "\n",
        "dict_temps ={day:temp for (day,temp) in zip(days, temp_C)}\n",
        "\n",
        "print(dict_temps)"
      ],
      "metadata": {
        "colab": {
          "base_uri": "https://localhost:8080/"
        },
        "id": "xPe-5kAQ1jGZ",
        "outputId": "9582eb78-2e4e-4c5f-ef42-9b2523ddff81"
      },
      "execution_count": 16,
      "outputs": [
        {
          "output_type": "stream",
          "name": "stdout",
          "text": [
            "{'Sunday': 33.4, 'Monday': 29.8, 'Tuesday': 30.5, 'Wednesday': 29.9, 'Thursday': 32.6, 'Friday': 31.8, 'Saturday': 30.2}\n"
          ]
        }
      ]
    }
  ]
}