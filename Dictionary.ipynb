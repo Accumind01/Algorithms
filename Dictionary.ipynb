{
  "nbformat": 4,
  "nbformat_minor": 0,
  "metadata": {
    "colab": {
      "provenance": [],
      "toc_visible": true,
      "authorship_tag": "ABX9TyM3w/Hz1ePAT40OvCmtcvQT",
      "include_colab_link": true
    },
    "kernelspec": {
      "name": "python3",
      "display_name": "Python 3"
    },
    "language_info": {
      "name": "python"
    }
  },
  "cells": [
    {
      "cell_type": "markdown",
      "metadata": {
        "id": "view-in-github",
        "colab_type": "text"
      },
      "source": [
        "<a href=\"https://colab.research.google.com/github/Accumind01/Algorithms/blob/main/Dictionary.ipynb\" target=\"_parent\"><img src=\"https://colab.research.google.com/assets/colab-badge.svg\" alt=\"Open In Colab\"/></a>"
      ]
    },
    {
      "cell_type": "markdown",
      "source": [
        "# Dictionary Comprehension\n",
        "Random customers discount dictionary"
      ],
      "metadata": {
        "id": "viK6NZpK093U"
      }
    },
    {
      "cell_type": "code",
      "execution_count": 6,
      "metadata": {
        "colab": {
          "base_uri": "https://localhost:8080/"
        },
        "id": "LYlz3--czm61",
        "outputId": "6758de0b-ced1-44e4-9cd4-5ba9f005cac2"
      },
      "outputs": [
        {
          "output_type": "stream",
          "name": "stdout",
          "text": [
            "{'Aaron': 25, 'Brian': 10, 'Curly': 30, 'Don': 35, 'Eastwood': 40, 'Robert': 25, 'Sam': 35, 'Mike': 25, 'David': 45, 'Cindy': 25, 'Gemma': 25, 'Moyo': 45}\n"
          ]
        }
      ],
      "source": [
        "import random\n",
        "\n",
        "customers = ['Aaron','Brian','Curly','Don','Eastwood','Robert','Sam','Mike','David','Cindy','Gemma','Moyo']\n",
        "\n",
        "discounts ={customer:random.randrange(10,50,5) for customer in customers }\n",
        "\n",
        "print(discounts)"
      ]
    },
    {
      "cell_type": "markdown",
      "source": [
        "**Conditional**"
      ],
      "metadata": {
        "id": "aKrXdFRgHsky"
      }
    },
    {
      "cell_type": "code",
      "source": [
        "high_discounts = {customer:high_discount for (customer,high_discount) in discounts.items() if  high_discount>30}\n",
        "print(high_discounts)"
      ],
      "metadata": {
        "colab": {
          "base_uri": "https://localhost:8080/"
        },
        "id": "Meu7sPZUHw_a",
        "outputId": "5fd4ec5f-53ce-408e-ef76-919f51e29214"
      },
      "execution_count": 7,
      "outputs": [
        {
          "output_type": "stream",
          "name": "stdout",
          "text": [
            "{'Don': 35, 'Eastwood': 40, 'Sam': 35, 'David': 45, 'Moyo': 45}\n"
          ]
        }
      ]
    },
    {
      "cell_type": "markdown",
      "source": [
        "# Zip \n",
        "The zip function takes in a sequence of iterables as the argument, and returns an iterator of tuples, as shown in the image below.\n"
      ],
      "metadata": {
        "id": "4ZHZ9kz41XoH"
      }
    },
    {
      "cell_type": "code",
      "source": [
        "import random\n",
        "\n",
        "days = [\"Sunday\", \"Monday\",\"Tuesday\",\"Wednesday\",\"Thursday\",\"Friday\",\"Saturday\"]\n",
        "temp_C = [30.5,32.6,31.8,33.4,29.8,30.2,29.9]\n",
        "random.shuffle(temp_C)\n",
        "\n",
        "dict_temps ={day:temp for (day,temp) in zip(days, temp_C)}\n",
        "\n",
        "print(dict_temps)\n",
        "print(dict_temps.items())"
      ],
      "metadata": {
        "colab": {
          "base_uri": "https://localhost:8080/"
        },
        "id": "xPe-5kAQ1jGZ",
        "outputId": "4313b9dc-6a9f-4f1b-f5bf-efe4417f2b89"
      },
      "execution_count": 1,
      "outputs": [
        {
          "output_type": "stream",
          "name": "stdout",
          "text": [
            "{'Sunday': 31.8, 'Monday': 29.8, 'Tuesday': 32.6, 'Wednesday': 29.9, 'Thursday': 33.4, 'Friday': 30.2, 'Saturday': 30.5}\n",
            "dict_items([('Sunday', 31.8), ('Monday', 29.8), ('Tuesday', 32.6), ('Wednesday', 29.9), ('Thursday', 33.4), ('Friday', 30.2), ('Saturday', 30.5)])\n"
          ]
        }
      ]
    }
  ]
}